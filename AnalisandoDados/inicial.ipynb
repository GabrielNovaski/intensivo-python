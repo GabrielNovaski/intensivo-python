{
 "cells": [
  {
   "cell_type": "code",
   "execution_count": null,
   "metadata": {},
   "outputs": [],
   "source": [
    "import pandas\n",
    "\n",
    "#Passo a Passo\n",
    "#Passo 1: Importar a base de dados\n",
    "tabela = pandas.read_csv('cancelamentos_sample.csv')\n",
    "#Passo 2: Visualizar a base de dados\n",
    "    # entender oque tem na base de dados\n",
    "    # encontrar os erros da base de dados\n",
    "\n",
    "#TIRAR A COLUNA CUSTOMERID\n",
    "tabela = tabela.drop(columns='CustomerID')\n",
    "display(tabela)"
   ]
  },
  {
   "cell_type": "code",
   "execution_count": null,
   "metadata": {},
   "outputs": [],
   "source": [
    "#Passo 3: Tratamento de dados - Corrigir algumas coisas da base de dados\n",
    "#Informacoes no formato errado\n",
    "#Valores vazios - Excluir\n",
    "display(tabela.info())\n",
    "tabela = tabela.dropna()\n",
    "display(tabela.info())"
   ]
  },
  {
   "cell_type": "code",
   "execution_count": null,
   "metadata": {},
   "outputs": [],
   "source": [
    "#Passo 4: Analise Inicial dos Cancelamentos\n",
    "# display(tabela['cancelou'].value_counts(normalize=True).map(\"{:.1%}\".format))\n",
    "display(tabela['cancelou'].value_counts())\n",
    "display(tabela['cancelou'].value_counts(normalize=True))"
   ]
  },
  {
   "cell_type": "code",
   "execution_count": null,
   "metadata": {},
   "outputs": [],
   "source": [
    "#Passo 5: Analise de causas do cancelamento dos clientes\n",
    "import plotly.express as px\n",
    "#CRIA O GRAFICO\n",
    "\n",
    "for coluna in tabela.columns:\n",
    "    grafico = px.histogram(tabela, x=coluna, color='cancelou')\n",
    "    #EXIBE O GRAFICO\n",
    "    grafico.show()"
   ]
  },
  {
   "cell_type": "code",
   "execution_count": null,
   "metadata": {},
   "outputs": [],
   "source": [
    "#TODOS OS CLIENTES QUE LIGARAM MAIS DE 4X PRO CALLCENTER CANCELARAM\n",
    "\n",
    "#TODOS OS CLIENTES QUE ATRASARAM MAIS DE 20 DIAS O PAGAMENTO CANCELARAM\n",
    "\n",
    "#TODOS OS CLIENTES DO PLANO MENSAL CANCELARAM\n",
    "filtro = tabela['ligacoes_callcenter'] <= 4\n",
    "tabela = tabela[filtro]\n",
    "\n",
    "filtro = tabela['dias_atraso'] <= 20\n",
    "tabela = tabela[filtro]\n",
    "\n",
    "filtro = tabela['duracao_contrato'] != 'Monthly'\n",
    "tabela = tabela[filtro]\n",
    "\n",
    "display(tabela['cancelou'].value_counts(normalize=True).map(\"{:.1%}\".format))"
   ]
  }
 ],
 "metadata": {
  "kernelspec": {
   "display_name": "base",
   "language": "python",
   "name": "python3"
  },
  "language_info": {
   "codemirror_mode": {
    "name": "ipython",
    "version": 3
   },
   "file_extension": ".py",
   "mimetype": "text/x-python",
   "name": "python",
   "nbconvert_exporter": "python",
   "pygments_lexer": "ipython3",
   "version": "3.12.4"
  },
  "orig_nbformat": 4
 },
 "nbformat": 4,
 "nbformat_minor": 2
}
